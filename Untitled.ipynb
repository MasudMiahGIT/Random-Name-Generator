{
 "cells": [
  {
   "cell_type": "code",
   "execution_count": null,
   "id": "1d15d576",
   "metadata": {},
   "outputs": [],
   "source": [
    "import random\n",
    "\n",
    "# Take user input for shortlist names\n",
    "shortlist = input(\"Enter a list of names separated by commas: \").replace(\" \", \"\").split(\",\")\n",
    "\n",
    "\n",
    "# Take user input for how many names to select\n",
    "while True:\n",
    "    num_names = input(\"How many names do you want to select? \")\n",
    "    if num_names.isdigit() and int(num_names) > 0:\n",
    "        num_names = int(num_names)\n",
    "        break\n",
    "    print(\"Invalid input. Please enter a positive integer.\")\n",
    "\n",
    "# Randomly select names from the shortlist\n",
    "selected_names = random.sample(shortlist, num_names)\n",
    "\n",
    "# Print the selected names to the user\n",
    "print(\"Randomly selected names:\")\n",
    "for name in selected_names:\n",
    "    print(name)"
   ]
  },
  {
   "cell_type": "code",
   "execution_count": null,
   "id": "c9568415",
   "metadata": {},
   "outputs": [],
   "source": []
  }
 ],
 "metadata": {
  "kernelspec": {
   "display_name": "Python 3 (ipykernel)",
   "language": "python",
   "name": "python3"
  },
  "language_info": {
   "codemirror_mode": {
    "name": "ipython",
    "version": 3
   },
   "file_extension": ".py",
   "mimetype": "text/x-python",
   "name": "python",
   "nbconvert_exporter": "python",
   "pygments_lexer": "ipython3",
   "version": "3.9.13"
  }
 },
 "nbformat": 4,
 "nbformat_minor": 5
}
